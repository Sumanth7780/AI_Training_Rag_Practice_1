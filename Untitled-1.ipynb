{
 "cells": [
  {
   "cell_type": "markdown",
   "metadata": {},
   "source": [
    "Cross Encoder Model"
   ]
  },
  {
   "cell_type": "code",
   "execution_count": 1,
   "metadata": {},
   "outputs": [
    {
     "name": "stderr",
     "output_type": "stream",
     "text": [
      "C:\\Users\\suman\\AppData\\Local\\Packages\\PythonSoftwareFoundation.Python.3.11_qbz5n2kfra8p0\\LocalCache\\local-packages\\Python311\\site-packages\\sentence_transformers\\cross_encoder\\CrossEncoder.py:11: TqdmWarning: IProgress not found. Please update jupyter and ipywidgets. See https://ipywidgets.readthedocs.io/en/stable/user_install.html\n",
      "  from tqdm.autonotebook import tqdm, trange\n"
     ]
    },
    {
     "name": "stdout",
     "output_type": "stream",
     "text": [
      "WARNING:tensorflow:From C:\\Users\\suman\\AppData\\Local\\Packages\\PythonSoftwareFoundation.Python.3.11_qbz5n2kfra8p0\\LocalCache\\local-packages\\Python311\\site-packages\\tf_keras\\src\\losses.py:2976: The name tf.losses.sparse_softmax_cross_entropy is deprecated. Please use tf.compat.v1.losses.sparse_softmax_cross_entropy instead.\n",
      "\n"
     ]
    }
   ],
   "source": [
    "import os\n",
    "from pypdf import PdfReader\n",
    "import faiss\n",
    "from sentence_transformers import SentenceTransformer, CrossEncoder\n",
    "import openai\n",
    "from dotenv import load_dotenv"
   ]
  },
  {
   "cell_type": "code",
   "execution_count": 2,
   "metadata": {},
   "outputs": [],
   "source": [
    "reader=PdfReader(r\"microsoft-annual-report.pdf\")\n",
    "pdf_text=[p.extract_text().strip() for p in reader.pages]\n",
    "pdf_text=[text for text in pdf_text if text]"
   ]
  },
  {
   "cell_type": "code",
   "execution_count": 3,
   "metadata": {},
   "outputs": [
    {
     "name": "stdout",
     "output_type": "stream",
     "text": [
      "Number of text chunks:409\n"
     ]
    }
   ],
   "source": [
    "\n",
    "from langchain.text_splitter import RecursiveCharacterTextSplitter\n",
    "charecter_splitter= RecursiveCharacterTextSplitter(\n",
    "    separators=[\"\\n\\n\",\"\\n\",\".\",\" \", \"\"], chunk_size=1000, chunk_overlap=0\n",
    ")\n",
    "charecter_split_texts= charecter_splitter.split_text(\"\\n\\n\".join(pdf_text))\n",
    "print(f\"Number of text chunks:{len(charecter_split_texts)}\")"
   ]
  },
  {
   "cell_type": "code",
   "execution_count": 4,
   "metadata": {},
   "outputs": [
    {
     "name": "stderr",
     "output_type": "stream",
     "text": [
      "C:\\Users\\suman\\AppData\\Local\\Packages\\PythonSoftwareFoundation.Python.3.11_qbz5n2kfra8p0\\LocalCache\\local-packages\\Python311\\site-packages\\transformers\\tokenization_utils_base.py:1601: FutureWarning: `clean_up_tokenization_spaces` was not set. It will be set to `True` by default. This behavior will be depracted in transformers v4.45, and will be then set to `False` by default. For more details check this issue: https://github.com/huggingface/transformers/issues/31884\n",
      "  warnings.warn(\n"
     ]
    },
    {
     "name": "stdout",
     "output_type": "stream",
     "text": [
      "(409, 384)\n"
     ]
    }
   ],
   "source": [
    "embedding_model=SentenceTransformer(\"all-MiniLM-L6-v2\")\n",
    "embeddings=embedding_model.encode(charecter_split_texts)\n",
    "print(embeddings.shape)"
   ]
  },
  {
   "cell_type": "code",
   "execution_count": 5,
   "metadata": {},
   "outputs": [],
   "source": [
    "dimensions=embeddings.shape[1]\n",
    "index=faiss.IndexFlatL2(dimensions)\n",
    "index.add(embeddings)"
   ]
  },
  {
   "cell_type": "code",
   "execution_count": 13,
   "metadata": {},
   "outputs": [],
   "source": [
    "query_text=input(\"enter query\")\n",
    "query_embedding=embedding_model.encode([query_text])\n",
    "\n"
   ]
  },
  {
   "cell_type": "code",
   "execution_count": 14,
   "metadata": {},
   "outputs": [
    {
     "name": "stdout",
     "output_type": "stream",
     "text": [
      "Revenue, classified by significant product and service offerings, was as follows:\n",
      "--------------------------------------------------------------------------------\n",
      ".  Revenue Recognition – Refer to Note 1 to the financial statements  Critical Audit Matter Description  The Company recognizes revenue upon transfer of control of promised products or services to customers in an amount that reflects the consideration the Company expects to receive in exchange for those products or services. The Company offers customers the ability to acquire multiple licenses of software products and services, including cloud-based services, in its customer agreements through its volume licensing programs.\n",
      "--------------------------------------------------------------------------------\n",
      "Segment revenue and operating income were as follows during the periods presented:    \n",
      "  No sales to an individual customer or country other than the United States accounted for more than 10% of revenue for fiscal years 2023, 2022, or 2021. Revenue, classified by the major geographic areas in which our customers were located, was as follows:    \n",
      "(a) Includes billings to OEMs and certain multinational organizations because of the nature of these businesses and the impracticability of determining the geographic source of the revenue.  (In millions)    \n",
      "    Year Ended June 30,202320222021\n",
      "    Revenue   \n",
      "    Productivity and Business Processes$ 69,274 $ 63,364 $ 53,915 Intelligent Cloud 87,907  74,965  59,728 More Personal Computing 54,734  59,941  54,445    Total$  211,915 $  198,270 $  168,088     \n",
      " Operating Income\n",
      "--------------------------------------------------------------------------------\n",
      ".  Revenue and costs are generally directly attributed to our segments. However, due to the integrated structure of our business, certain revenue recognized and costs incurred by one segment may benefit other segments. Revenue from certain contracts is allocated among the segments based on the relative value of the underlying products and services, which can include allocation based on actual prices charged, prices when sold separately, or estimated costs plus a profit margin. Cost of revenue is allocated in certain cases based on a relative revenue methodology. Operating expenses that are allocated primarily include those relating to marketing of products and services from which multiple segments benefit and are generally allocated based on relative gross margin.  In addition, certain costs are incurred at a corporate level and allocated to our segments\n",
      "--------------------------------------------------------------------------------\n",
      "Research and development$   27,195  $   24,512   11% As a percent of revenue 13%   12%   1ppt  \n",
      "(In millions, except percentages)20232022Percentage Change \n",
      "    Sales and marketing$   22,759  $   21,825   4% As a percent of revenue 11%   11%   0ppt  \n",
      "(In millions, except percentages)20232022Percentage Change \n",
      "    General and administrative$   7,575  $   5,900   28% As a percent of revenue 4%   3%   1ppt  35\n",
      "--------------------------------------------------------------------------------\n",
      ". Unearned revenue also includes payments for other offerings for which we have been paid in advance and earn the revenue when we transfer control of the product or service. Refer to Note 1 – Accounting Policies of the Notes to Financial Statements for further discussion.\n",
      "--------------------------------------------------------------------------------\n",
      "Revenue Recognition  Revenue is recognized upon transfer of control of promised products or services to customers in an amount that reflects the consideration we expect to receive in exchange for those products or services. We enter into contracts that can include various combinations of products and services, which are generally capable of being distinct and accounted for as separate performance obligations. Revenue is recognized net of allowances for returns and any taxes collected from customers, which are subsequently remitted to governmental authorities.  Nature of Products and Services  Licenses for on-premises software provide the customer with a right to use the software as it exists when made available to the customer. Customers may purchase perpetual licenses or subscribe to licenses, which provide customers with the same functionality and differ mainly in the duration over which the customer benefits from the software\n",
      "--------------------------------------------------------------------------------\n",
      ".  Foreign Currencies  Assets and liabilities recorded in foreign currencies are translated at the exchange rate on the balance sheet date. Revenue and expenses are translated at average rates of exchange prevailing during the year. Translation adjustments resulting from this process are recorded to other comprehensive income.  Revenue  Product Revenue and Service and Other Revenue  Product revenue includes sales from operating systems, cross-device productivity and collaboration applications, server applications, business solution applications, desktop and server management tools, software development tools, video games, and hardware such as PCs, tablets, gaming and entertainment consoles, other intelligent devices, and related accessories.\n",
      "--------------------------------------------------------------------------------\n",
      "Debt Proceeds  We issue debt to take advantage of favorable pricing and liquidity in the debt markets, reflecting our credit rating and the low interest rate environment. The proceeds of these issuances were or will be used for general corporate purposes, which may include, among other things, funding for working capital, capital expenditures, repurchases of capital stock, acquisitions, and repayment of existing debt. Refer to Note 11 – Debt of the Notes to Financial Statements for further discussion.  Unearned Revenue  Unearned revenue comprises mainly unearned revenue related to volume licensing programs, which may include Software Assurance (“SA”) and cloud services. Unearned revenue is generally invoiced annually at the beginning of each contract period for multi-year agreements and recognized ratably over the coverage period\n",
      "--------------------------------------------------------------------------------\n",
      ". Unearned revenue also includes payments for consulting services to be performed in the future, LinkedIn subscriptions, Office 365 subscriptions, Xbox subscriptions, Windows post-delivery support, Dynamics business solutions, and other offerings for which we have been paid in advance and earn the revenue when we transfer control of the product or service.  Refer to Note 13 – Unearned Revenue for further information, including unearned revenue by segment and changes in unearned revenue during the period.  Payment terms and conditions vary by contract type, although terms generally include a requirement of payment within 30 to 60 days. In instances where the timing of revenue recognition differs from the timing of invoicing, we have determined our contracts generally do not include a significant financing component\n",
      "--------------------------------------------------------------------------------\n"
     ]
    }
   ],
   "source": [
    "#search for similar embeddings\n",
    "k=10  # Number of results to retrieve\n",
    "distances, indices= index.search(query_embedding,k)\n",
    "\n",
    "#retrieve the top chunks/documents\n",
    "\n",
    "retrieved_documents = [charecter_split_texts[i] for i in indices[0]]\n",
    "\n",
    "#display the retrieved documents/chunks\n",
    "for doc in retrieved_documents:\n",
    "    print(doc)\n",
    "    print(\"-\" * 80)"
   ]
  },
  {
   "cell_type": "code",
   "execution_count": 15,
   "metadata": {},
   "outputs": [
    {
     "name": "stdout",
     "output_type": "stream",
     "text": [
      "Rank 1:\n",
      "Revenue Recognition  Revenue is recognized upon transfer of control of promised products or services to customers in an amount that reflects the consideration we expect to receive in exchange for those products or services. We enter into contracts that can include various combinations of products and services, which are generally capable of being distinct and accounted for as separate performance obligations. Revenue is recognized net of allowances for returns and any taxes collected from customers, which are subsequently remitted to governmental authorities.  Nature of Products and Services  Licenses for on-premises software provide the customer with a right to use the software as it exists when made available to the customer. Customers may purchase perpetual licenses or subscribe to licenses, which provide customers with the same functionality and differ mainly in the duration over which the customer benefits from the software\n",
      "--------------------------------------------------------------------------------\n",
      "Rank 2:\n",
      "Revenue, classified by significant product and service offerings, was as follows:\n",
      "--------------------------------------------------------------------------------\n",
      "Rank 3:\n",
      ".  Revenue and costs are generally directly attributed to our segments. However, due to the integrated structure of our business, certain revenue recognized and costs incurred by one segment may benefit other segments. Revenue from certain contracts is allocated among the segments based on the relative value of the underlying products and services, which can include allocation based on actual prices charged, prices when sold separately, or estimated costs plus a profit margin. Cost of revenue is allocated in certain cases based on a relative revenue methodology. Operating expenses that are allocated primarily include those relating to marketing of products and services from which multiple segments benefit and are generally allocated based on relative gross margin.  In addition, certain costs are incurred at a corporate level and allocated to our segments\n",
      "--------------------------------------------------------------------------------\n",
      "Rank 4:\n",
      ".  Revenue Recognition – Refer to Note 1 to the financial statements  Critical Audit Matter Description  The Company recognizes revenue upon transfer of control of promised products or services to customers in an amount that reflects the consideration the Company expects to receive in exchange for those products or services. The Company offers customers the ability to acquire multiple licenses of software products and services, including cloud-based services, in its customer agreements through its volume licensing programs.\n",
      "--------------------------------------------------------------------------------\n",
      "Rank 5:\n",
      ".  Foreign Currencies  Assets and liabilities recorded in foreign currencies are translated at the exchange rate on the balance sheet date. Revenue and expenses are translated at average rates of exchange prevailing during the year. Translation adjustments resulting from this process are recorded to other comprehensive income.  Revenue  Product Revenue and Service and Other Revenue  Product revenue includes sales from operating systems, cross-device productivity and collaboration applications, server applications, business solution applications, desktop and server management tools, software development tools, video games, and hardware such as PCs, tablets, gaming and entertainment consoles, other intelligent devices, and related accessories.\n",
      "--------------------------------------------------------------------------------\n",
      "Rank 6:\n",
      ". Unearned revenue also includes payments for other offerings for which we have been paid in advance and earn the revenue when we transfer control of the product or service. Refer to Note 1 – Accounting Policies of the Notes to Financial Statements for further discussion.\n",
      "--------------------------------------------------------------------------------\n",
      "Rank 7:\n",
      "Segment revenue and operating income were as follows during the periods presented:    \n",
      "  No sales to an individual customer or country other than the United States accounted for more than 10% of revenue for fiscal years 2023, 2022, or 2021. Revenue, classified by the major geographic areas in which our customers were located, was as follows:    \n",
      "(a) Includes billings to OEMs and certain multinational organizations because of the nature of these businesses and the impracticability of determining the geographic source of the revenue.  (In millions)    \n",
      "    Year Ended June 30,202320222021\n",
      "    Revenue   \n",
      "    Productivity and Business Processes$ 69,274 $ 63,364 $ 53,915 Intelligent Cloud 87,907  74,965  59,728 More Personal Computing 54,734  59,941  54,445    Total$  211,915 $  198,270 $  168,088     \n",
      " Operating Income\n",
      "--------------------------------------------------------------------------------\n",
      "Rank 8:\n",
      ". Unearned revenue also includes payments for consulting services to be performed in the future, LinkedIn subscriptions, Office 365 subscriptions, Xbox subscriptions, Windows post-delivery support, Dynamics business solutions, and other offerings for which we have been paid in advance and earn the revenue when we transfer control of the product or service.  Refer to Note 13 – Unearned Revenue for further information, including unearned revenue by segment and changes in unearned revenue during the period.  Payment terms and conditions vary by contract type, although terms generally include a requirement of payment within 30 to 60 days. In instances where the timing of revenue recognition differs from the timing of invoicing, we have determined our contracts generally do not include a significant financing component\n",
      "--------------------------------------------------------------------------------\n",
      "Rank 9:\n",
      "Debt Proceeds  We issue debt to take advantage of favorable pricing and liquidity in the debt markets, reflecting our credit rating and the low interest rate environment. The proceeds of these issuances were or will be used for general corporate purposes, which may include, among other things, funding for working capital, capital expenditures, repurchases of capital stock, acquisitions, and repayment of existing debt. Refer to Note 11 – Debt of the Notes to Financial Statements for further discussion.  Unearned Revenue  Unearned revenue comprises mainly unearned revenue related to volume licensing programs, which may include Software Assurance (“SA”) and cloud services. Unearned revenue is generally invoiced annually at the beginning of each contract period for multi-year agreements and recognized ratably over the coverage period\n",
      "--------------------------------------------------------------------------------\n",
      "Rank 10:\n",
      "Research and development$   27,195  $   24,512   11% As a percent of revenue 13%   12%   1ppt  \n",
      "(In millions, except percentages)20232022Percentage Change \n",
      "    Sales and marketing$   22,759  $   21,825   4% As a percent of revenue 11%   11%   0ppt  \n",
      "(In millions, except percentages)20232022Percentage Change \n",
      "    General and administrative$   7,575  $   5,900   28% As a percent of revenue 4%   3%   1ppt  35\n",
      "--------------------------------------------------------------------------------\n"
     ]
    }
   ],
   "source": [
    "#Re-Ranking using a Cross-Encoder\n",
    "import numpy as np\n",
    "cross_encoder= CrossEncoder(\"cross-encoder/ms-marco-MiniLM-L-6-v2\")\n",
    "pairs=[[query_text, doc] for doc in retrieved_documents]\n",
    "scores=cross_encoder.predict(pairs)\n",
    "\n",
    "#Sort the documents by their scores\n",
    "sorted_indices=np.argsort(scores)[::-1]\n",
    "top_documents=[retrieved_documents[i] for i in sorted_indices]\n",
    "\n",
    "#display the re-ranked documents\n",
    "for i, doc in enumerate(top_documents):\n",
    "    print(f\"Rank {i+1}:\")\n",
    "    print(doc)\n",
    "    print(\"-\" * 80)\n"
   ]
  },
  {
   "cell_type": "code",
   "execution_count": 16,
   "metadata": {},
   "outputs": [
    {
     "name": "stdout",
     "output_type": "stream",
     "text": [
      "Revenue Recognition  Revenue is recognized upon transfer of control of promised products or services to customers in an amount that reflects the consideration we expect to receive in exchange for those products or services. We enter into contracts that can include various combinations of products and services, which are generally capable of being distinct and accounted for as separate performance obligations. Revenue is recognized net of allowances for returns and any taxes collected from customers, which are subsequently remitted to governmental authorities.  Nature of Products and Services  Licenses for on-premises software provide the customer with a right to use the software as it exists when made available to the customer. Customers may purchase perpetual licenses or subscribe to licenses, which provide customers with the same functionality and differ mainly in the duration over which the customer benefits from the software\n",
      "\n",
      "Revenue, classified by significant product and service offerings, was as follows:\n",
      "\n",
      ".  Revenue and costs are generally directly attributed to our segments. However, due to the integrated structure of our business, certain revenue recognized and costs incurred by one segment may benefit other segments. Revenue from certain contracts is allocated among the segments based on the relative value of the underlying products and services, which can include allocation based on actual prices charged, prices when sold separately, or estimated costs plus a profit margin. Cost of revenue is allocated in certain cases based on a relative revenue methodology. Operating expenses that are allocated primarily include those relating to marketing of products and services from which multiple segments benefit and are generally allocated based on relative gross margin.  In addition, certain costs are incurred at a corporate level and allocated to our segments\n",
      "\n",
      ".  Revenue Recognition – Refer to Note 1 to the financial statements  Critical Audit Matter Description  The Company recognizes revenue upon transfer of control of promised products or services to customers in an amount that reflects the consideration the Company expects to receive in exchange for those products or services. The Company offers customers the ability to acquire multiple licenses of software products and services, including cloud-based services, in its customer agreements through its volume licensing programs.\n",
      "\n",
      ".  Foreign Currencies  Assets and liabilities recorded in foreign currencies are translated at the exchange rate on the balance sheet date. Revenue and expenses are translated at average rates of exchange prevailing during the year. Translation adjustments resulting from this process are recorded to other comprehensive income.  Revenue  Product Revenue and Service and Other Revenue  Product revenue includes sales from operating systems, cross-device productivity and collaboration applications, server applications, business solution applications, desktop and server management tools, software development tools, video games, and hardware such as PCs, tablets, gaming and entertainment consoles, other intelligent devices, and related accessories.\n",
      "Final Answer:\n",
      "The revenue of the company is recognized upon the transfer of control of promised products or services to customers in an amount that reflects the consideration they expect to receive in exchange for those products or services. This can include various combinations of products and services, which are generally distinct and accounted for as separate performance obligations. The company's revenue comes from different sources, including sales from operating systems, cross-device productivity and collaboration applications, server applications, business solution applications, desktop and server management tools, software development tools, video games, and hardware such as PCs, tablets, gaming and entertainment consoles, other intelligent devices, and related accessories. The revenue is recognized net of allowances for returns and any taxes collected from customers, which are subsequently remitted to governmental authorities.\n"
     ]
    }
   ],
   "source": [
    "\n",
    "import openai\n",
    "\n",
    "openai.api_key = os.getenv(\"OPENAI_API_KEY\")\n",
    "# Rest of your code\n",
    "context = \"\\n\\n\".join(top_documents[:5])\n",
    "print(context)\n",
    "def generate_answer(query, context, model=\"gpt-4\"):\n",
    "    prompt = \"\"\"\n",
    "    You are a knowledgeable financial research assistant. \n",
    "    Your users are inquiring about an annual report. \n",
    "    \"\"\"\n",
    "    \n",
    "    # Prepare the messages for the API call\n",
    "    messages = [\n",
    "        {\n",
    "            \"role\": \"system\",\n",
    "            \"content\": prompt,\n",
    "        },\n",
    "        {\n",
    "            \"role\": \"user\",\n",
    "            \"content\": f\"Based on the following context:\\n\\n{context}\\n\\nAnswer the query: '{query}'\",\n",
    "        },\n",
    "    \n",
    "    ]\n",
    "    \n",
    "        # Use the OpenAI service\n",
    "        # Send a request to the model using the new API\n",
    "    response = openai.ChatCompletion.create(\n",
    "        model=\"gpt-4\",  # or \"gpt-3.5-turbo\" or any other model you wish to use\n",
    "        messages=messages,\n",
    "        max_tokens=150,\n",
    "        temperature=0.7,\n",
    "    )\n",
    "\n",
    "    # Print the response from the assistant\n",
    "    return response.choices[0].message.content\n",
    "# Generate the final answer\n",
    "final_answer = generate_answer(query=query_text, context=context)\n",
    "print(\"Final Answer:\")\n",
    "print(final_answer)"
   ]
  },
  {
   "cell_type": "code",
   "execution_count": 10,
   "metadata": {},
   "outputs": [
    {
     "name": "stdout",
     "output_type": "stream",
     "text": [
      "72\n",
      "\n",
      "114\n",
      "\n",
      "7\n",
      "\n",
      "37\n",
      "\n",
      "105\n"
     ]
    }
   ],
   "source": [
    "\n",
    "context = \"\\n\\n\".join(top_documents[:5])\n",
    "print(context)"
   ]
  },
  {
   "cell_type": "code",
   "execution_count": null,
   "metadata": {},
   "outputs": [],
   "source": []
  }
 ],
 "metadata": {
  "kernelspec": {
   "display_name": "Python 3",
   "language": "python",
   "name": "python3"
  },
  "language_info": {
   "codemirror_mode": {
    "name": "ipython",
    "version": 3
   },
   "file_extension": ".py",
   "mimetype": "text/x-python",
   "name": "python",
   "nbconvert_exporter": "python",
   "pygments_lexer": "ipython3",
   "version": "3.11.9"
  }
 },
 "nbformat": 4,
 "nbformat_minor": 2
}
